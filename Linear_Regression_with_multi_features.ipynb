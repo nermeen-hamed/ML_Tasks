{
 "cells": [
  {
   "cell_type": "code",
   "execution_count": 1,
   "id": "8e26b68e",
   "metadata": {
    "ExecuteTime": {
     "end_time": "2022-03-26T05:57:19.659697Z",
     "start_time": "2022-03-26T05:57:17.230986Z"
    }
   },
   "outputs": [],
   "source": [
    "import pandas as pd\n",
    "import numpy as np\n",
    "from sklearn.linear_model import LinearRegression\n",
    "from word2number import w2n"
   ]
  },
  {
   "cell_type": "code",
   "execution_count": 2,
   "id": "66f4f741",
   "metadata": {
    "ExecuteTime": {
     "end_time": "2022-03-26T05:57:19.698560Z",
     "start_time": "2022-03-26T05:57:19.663469Z"
    }
   },
   "outputs": [],
   "source": [
    "df=pd.read_csv('hiring.csv')"
   ]
  },
  {
   "cell_type": "code",
   "execution_count": 3,
   "id": "7be54070",
   "metadata": {
    "ExecuteTime": {
     "end_time": "2022-03-26T05:57:19.750942Z",
     "start_time": "2022-03-26T05:57:19.703453Z"
    }
   },
   "outputs": [
    {
     "data": {
      "text/html": [
       "<div>\n",
       "<style scoped>\n",
       "    .dataframe tbody tr th:only-of-type {\n",
       "        vertical-align: middle;\n",
       "    }\n",
       "\n",
       "    .dataframe tbody tr th {\n",
       "        vertical-align: top;\n",
       "    }\n",
       "\n",
       "    .dataframe thead th {\n",
       "        text-align: right;\n",
       "    }\n",
       "</style>\n",
       "<table border=\"1\" class=\"dataframe\">\n",
       "  <thead>\n",
       "    <tr style=\"text-align: right;\">\n",
       "      <th></th>\n",
       "      <th>experience</th>\n",
       "      <th>test_score(out of 10)</th>\n",
       "      <th>interview_score(out of 10)</th>\n",
       "      <th>salary($)</th>\n",
       "    </tr>\n",
       "  </thead>\n",
       "  <tbody>\n",
       "    <tr>\n",
       "      <th>0</th>\n",
       "      <td>NaN</td>\n",
       "      <td>8.0</td>\n",
       "      <td>9</td>\n",
       "      <td>50000</td>\n",
       "    </tr>\n",
       "    <tr>\n",
       "      <th>1</th>\n",
       "      <td>NaN</td>\n",
       "      <td>8.0</td>\n",
       "      <td>6</td>\n",
       "      <td>45000</td>\n",
       "    </tr>\n",
       "    <tr>\n",
       "      <th>2</th>\n",
       "      <td>five</td>\n",
       "      <td>6.0</td>\n",
       "      <td>7</td>\n",
       "      <td>60000</td>\n",
       "    </tr>\n",
       "    <tr>\n",
       "      <th>3</th>\n",
       "      <td>two</td>\n",
       "      <td>10.0</td>\n",
       "      <td>10</td>\n",
       "      <td>65000</td>\n",
       "    </tr>\n",
       "    <tr>\n",
       "      <th>4</th>\n",
       "      <td>seven</td>\n",
       "      <td>9.0</td>\n",
       "      <td>6</td>\n",
       "      <td>70000</td>\n",
       "    </tr>\n",
       "    <tr>\n",
       "      <th>5</th>\n",
       "      <td>three</td>\n",
       "      <td>7.0</td>\n",
       "      <td>10</td>\n",
       "      <td>62000</td>\n",
       "    </tr>\n",
       "    <tr>\n",
       "      <th>6</th>\n",
       "      <td>ten</td>\n",
       "      <td>NaN</td>\n",
       "      <td>7</td>\n",
       "      <td>72000</td>\n",
       "    </tr>\n",
       "    <tr>\n",
       "      <th>7</th>\n",
       "      <td>eleven</td>\n",
       "      <td>7.0</td>\n",
       "      <td>8</td>\n",
       "      <td>80000</td>\n",
       "    </tr>\n",
       "  </tbody>\n",
       "</table>\n",
       "</div>"
      ],
      "text/plain": [
       "  experience  test_score(out of 10)  interview_score(out of 10)  salary($)\n",
       "0        NaN                    8.0                           9      50000\n",
       "1        NaN                    8.0                           6      45000\n",
       "2       five                    6.0                           7      60000\n",
       "3        two                   10.0                          10      65000\n",
       "4      seven                    9.0                           6      70000\n",
       "5      three                    7.0                          10      62000\n",
       "6        ten                    NaN                           7      72000\n",
       "7     eleven                    7.0                           8      80000"
      ]
     },
     "execution_count": 3,
     "metadata": {},
     "output_type": "execute_result"
    }
   ],
   "source": [
    "df"
   ]
  },
  {
   "cell_type": "code",
   "execution_count": 4,
   "id": "4354b2d2",
   "metadata": {
    "ExecuteTime": {
     "end_time": "2022-03-26T05:57:42.218299Z",
     "start_time": "2022-03-26T05:57:42.191066Z"
    }
   },
   "outputs": [
    {
     "data": {
      "text/html": [
       "<div>\n",
       "<style scoped>\n",
       "    .dataframe tbody tr th:only-of-type {\n",
       "        vertical-align: middle;\n",
       "    }\n",
       "\n",
       "    .dataframe tbody tr th {\n",
       "        vertical-align: top;\n",
       "    }\n",
       "\n",
       "    .dataframe thead th {\n",
       "        text-align: right;\n",
       "    }\n",
       "</style>\n",
       "<table border=\"1\" class=\"dataframe\">\n",
       "  <thead>\n",
       "    <tr style=\"text-align: right;\">\n",
       "      <th></th>\n",
       "      <th>experience</th>\n",
       "      <th>test_score(out of 10)</th>\n",
       "      <th>interview_score(out of 10)</th>\n",
       "      <th>salary($)</th>\n",
       "    </tr>\n",
       "  </thead>\n",
       "  <tbody>\n",
       "    <tr>\n",
       "      <th>0</th>\n",
       "      <td>True</td>\n",
       "      <td>False</td>\n",
       "      <td>False</td>\n",
       "      <td>False</td>\n",
       "    </tr>\n",
       "    <tr>\n",
       "      <th>1</th>\n",
       "      <td>True</td>\n",
       "      <td>False</td>\n",
       "      <td>False</td>\n",
       "      <td>False</td>\n",
       "    </tr>\n",
       "    <tr>\n",
       "      <th>2</th>\n",
       "      <td>False</td>\n",
       "      <td>False</td>\n",
       "      <td>False</td>\n",
       "      <td>False</td>\n",
       "    </tr>\n",
       "    <tr>\n",
       "      <th>3</th>\n",
       "      <td>False</td>\n",
       "      <td>False</td>\n",
       "      <td>False</td>\n",
       "      <td>False</td>\n",
       "    </tr>\n",
       "    <tr>\n",
       "      <th>4</th>\n",
       "      <td>False</td>\n",
       "      <td>False</td>\n",
       "      <td>False</td>\n",
       "      <td>False</td>\n",
       "    </tr>\n",
       "    <tr>\n",
       "      <th>5</th>\n",
       "      <td>False</td>\n",
       "      <td>False</td>\n",
       "      <td>False</td>\n",
       "      <td>False</td>\n",
       "    </tr>\n",
       "    <tr>\n",
       "      <th>6</th>\n",
       "      <td>False</td>\n",
       "      <td>True</td>\n",
       "      <td>False</td>\n",
       "      <td>False</td>\n",
       "    </tr>\n",
       "    <tr>\n",
       "      <th>7</th>\n",
       "      <td>False</td>\n",
       "      <td>False</td>\n",
       "      <td>False</td>\n",
       "      <td>False</td>\n",
       "    </tr>\n",
       "  </tbody>\n",
       "</table>\n",
       "</div>"
      ],
      "text/plain": [
       "   experience  test_score(out of 10)  interview_score(out of 10)  salary($)\n",
       "0        True                  False                       False      False\n",
       "1        True                  False                       False      False\n",
       "2       False                  False                       False      False\n",
       "3       False                  False                       False      False\n",
       "4       False                  False                       False      False\n",
       "5       False                  False                       False      False\n",
       "6       False                   True                       False      False\n",
       "7       False                  False                       False      False"
      ]
     },
     "execution_count": 4,
     "metadata": {},
     "output_type": "execute_result"
    }
   ],
   "source": [
    "df.isna()"
   ]
  },
  {
   "cell_type": "code",
   "execution_count": 5,
   "id": "4a2da117",
   "metadata": {
    "ExecuteTime": {
     "end_time": "2022-03-26T05:57:47.161219Z",
     "start_time": "2022-03-26T05:57:47.154687Z"
    }
   },
   "outputs": [],
   "source": [
    "df['experience']=df['experience'].fillna('two')"
   ]
  },
  {
   "cell_type": "code",
   "execution_count": 6,
   "id": "8dfcab47",
   "metadata": {
    "ExecuteTime": {
     "end_time": "2022-03-26T05:57:47.759227Z",
     "start_time": "2022-03-26T05:57:47.740844Z"
    }
   },
   "outputs": [
    {
     "data": {
      "text/plain": [
       "6.0"
      ]
     },
     "execution_count": 6,
     "metadata": {},
     "output_type": "execute_result"
    }
   ],
   "source": [
    "df['test_score(out of 10)'].min()"
   ]
  },
  {
   "cell_type": "code",
   "execution_count": 7,
   "id": "e5d6ce6d",
   "metadata": {
    "ExecuteTime": {
     "end_time": "2022-03-26T05:57:49.876882Z",
     "start_time": "2022-03-26T05:57:49.859250Z"
    }
   },
   "outputs": [],
   "source": [
    "df['test_score(out of 10)']=df['test_score(out of 10)'].fillna(6.0)"
   ]
  },
  {
   "cell_type": "code",
   "execution_count": 8,
   "id": "84e378e6",
   "metadata": {
    "ExecuteTime": {
     "end_time": "2022-03-26T05:57:50.436691Z",
     "start_time": "2022-03-26T05:57:50.431604Z"
    }
   },
   "outputs": [],
   "source": [
    "salary=df['salary($)']"
   ]
  },
  {
   "cell_type": "code",
   "execution_count": 9,
   "id": "df8fc7cd",
   "metadata": {
    "ExecuteTime": {
     "end_time": "2022-03-26T05:57:51.441284Z",
     "start_time": "2022-03-26T05:57:51.434850Z"
    }
   },
   "outputs": [],
   "source": [
    "df['experience']=df['experience'].apply(w2n.word_to_num)"
   ]
  },
  {
   "cell_type": "code",
   "execution_count": 10,
   "id": "fa808971",
   "metadata": {
    "ExecuteTime": {
     "end_time": "2022-03-26T05:57:53.958209Z",
     "start_time": "2022-03-26T05:57:53.947245Z"
    }
   },
   "outputs": [],
   "source": [
    "data=df.drop('salary($)',axis=1)"
   ]
  },
  {
   "cell_type": "code",
   "execution_count": 11,
   "id": "4bc08191",
   "metadata": {
    "ExecuteTime": {
     "end_time": "2022-03-26T05:57:54.495410Z",
     "start_time": "2022-03-26T05:57:54.489220Z"
    }
   },
   "outputs": [],
   "source": [
    "model=LinearRegression()"
   ]
  },
  {
   "cell_type": "code",
   "execution_count": 12,
   "id": "cc2f61ce",
   "metadata": {
    "ExecuteTime": {
     "end_time": "2022-03-26T05:57:55.445949Z",
     "start_time": "2022-03-26T05:57:55.294408Z"
    }
   },
   "outputs": [
    {
     "data": {
      "text/plain": [
       "LinearRegression()"
      ]
     },
     "execution_count": 12,
     "metadata": {},
     "output_type": "execute_result"
    }
   ],
   "source": [
    "model.fit(data,salary)"
   ]
  },
  {
   "cell_type": "code",
   "execution_count": 13,
   "id": "7f73cd61",
   "metadata": {
    "ExecuteTime": {
     "end_time": "2022-03-26T05:58:12.127370Z",
     "start_time": "2022-03-26T05:58:12.112111Z"
    }
   },
   "outputs": [
    {
     "data": {
      "text/plain": [
       "0.9163247404598344"
      ]
     },
     "execution_count": 13,
     "metadata": {},
     "output_type": "execute_result"
    }
   ],
   "source": [
    "model.score(data,salary)"
   ]
  },
  {
   "cell_type": "code",
   "execution_count": 19,
   "id": "48a4e0cf",
   "metadata": {
    "ExecuteTime": {
     "end_time": "2022-03-26T06:03:25.383372Z",
     "start_time": "2022-03-26T06:03:25.368027Z"
    }
   },
   "outputs": [
    {
     "data": {
      "text/plain": [
       "array([48495.7100858])"
      ]
     },
     "execution_count": 19,
     "metadata": {},
     "output_type": "execute_result"
    }
   ],
   "source": [
    "model.predict([[3,7,6]])"
   ]
  },
  {
   "cell_type": "code",
   "execution_count": null,
   "id": "ba332897",
   "metadata": {},
   "outputs": [],
   "source": []
  }
 ],
 "metadata": {
  "kernelspec": {
   "display_name": "Python 3 (ipykernel)",
   "language": "python",
   "name": "python3"
  },
  "language_info": {
   "codemirror_mode": {
    "name": "ipython",
    "version": 3
   },
   "file_extension": ".py",
   "mimetype": "text/x-python",
   "name": "python",
   "nbconvert_exporter": "python",
   "pygments_lexer": "ipython3",
   "version": "3.9.7"
  }
 },
 "nbformat": 4,
 "nbformat_minor": 5
}
